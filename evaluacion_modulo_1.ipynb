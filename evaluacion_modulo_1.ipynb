{
 "cells": [
  {
   "cell_type": "code",
   "execution_count": null,
   "metadata": {},
   "outputs": [],
   "source": [
    "# Crea una lista de diccionarios para almacenar los productos en un inventario. Nombre, precio y cantidad. Al principio deberá ser una lista vacía. \n",
    "inventario=[{}]\n",
    "\n",
    "# crea un diccionario para llevar un registro de los clientes de la tienda. Debe ser representado como un diccionario con las siguientes claves: 'nombre' y 'email'.\n",
    "# Al inicio debe der ser un diccionario vacío, además cada cliente debe tener un registro de compras.\n",
    "clientes={}\n",
    "# crea una variable para llevar un registro de ventas totales. El valor inicial debe ser 0\n",
    "ventas_totales=0"
   ]
  },
  {
   "cell_type": "code",
   "execution_count": 97,
   "metadata": {},
   "outputs": [],
   "source": [
    "# 1.\n",
    "# agrega un producto al inventario \n",
    "# en caso de que ya exista, actualiza su cantidad\n"
   ]
  },
  {
   "cell_type": "code",
   "execution_count": 722,
   "metadata": {},
   "outputs": [],
   "source": [
    "\n",
    "inventario=[]\n",
    "\n",
    "def agregar_producto(nombre, precio, cantidad):\n",
    "    for producto in inventario:\n",
    "        if producto['nombre'] == nombre:\n",
    "           producto['cantidad'] += cantidad\n",
    "        \n",
    "        print(f\"este producto '{nombre}' ya está en la base de datos. Se actualizó la cantidad {producto['cantidad']}\")\n",
    "        \n",
    "    \n",
    "\n",
    "     \n",
    "    nuevo_producto={'nombre':'bikini','precio': 27,'cantidad':10}\n",
    "    \n",
    "    inventario.append(nuevo_producto)\n",
    "    print(f'el producto {nombre} se ha añadido al stock con {cantidad} unidades')\n",
    "    \n",
    "\n",
    " \n",
    "\n",
    "\n",
    "            \n",
    "            \n",
    "        \n",
    "        \n",
    "        \n",
    "        \n",
    "          \n",
    "    \n",
    "\n",
    "\n",
    "\n",
    "    "
   ]
  },
  {
   "cell_type": "code",
   "execution_count": 724,
   "metadata": {},
   "outputs": [
    {
     "name": "stdout",
     "output_type": "stream",
     "text": [
      "[{'nombre': 'bikini', 'precio': 27, 'cantidad': 10}]\n"
     ]
    }
   ],
   "source": [
    "print(inventario)"
   ]
  },
  {
   "cell_type": "code",
   "execution_count": 723,
   "metadata": {},
   "outputs": [
    {
     "name": "stdout",
     "output_type": "stream",
     "text": [
      "el producto camiseta se ha añadido al stock con 12 unidades\n"
     ]
    }
   ],
   "source": [
    "agregar_producto('camiseta', 25, 12)"
   ]
  },
  {
   "cell_type": "code",
   "execution_count": 725,
   "metadata": {},
   "outputs": [
    {
     "name": "stdout",
     "output_type": "stream",
     "text": [
      "[{'nombre': 'bikini', 'precio': 27, 'cantidad': 10}]\n"
     ]
    }
   ],
   "source": [
    "print(inventario)"
   ]
  },
  {
   "cell_type": "code",
   "execution_count": null,
   "metadata": {},
   "outputs": [],
   "source": [
    "#2.\n",
    "#  `ver_inventario()`: Muestra el inventario de productos con sus detalles. \n",
    "# Utiliza un bucle `for` para recorrer el inventario. \n",
    "# Imprime los detalles (nombre, precio, cantidad) de cada producto. \n"
   ]
  },
  {
   "cell_type": "code",
   "execution_count": 586,
   "metadata": {},
   "outputs": [
    {
     "name": "stdout",
     "output_type": "stream",
     "text": [
      "[{'nombre': 'bikini', 'precio': 27, 'cantidad': 10}, {'nombre': 'zapatillas', 'precio': 45, 'cantidad': 19}]\n"
     ]
    }
   ],
   "source": [
    "print(inventario)"
   ]
  },
  {
   "cell_type": "code",
   "execution_count": 736,
   "metadata": {},
   "outputs": [],
   "source": [
    "def ver_inventario():\n",
    "    for producto in inventario:\n",
    "       print(f\"Nombre: {producto['nombre']}, Precio: {producto['precio']}, Cantidad: {producto['cantidad']}\")\n",
    "       "
   ]
  },
  {
   "cell_type": "code",
   "execution_count": 737,
   "metadata": {},
   "outputs": [
    {
     "name": "stdout",
     "output_type": "stream",
     "text": [
      "Nombre: bikini, Precio: 27, Cantidad: 10\n"
     ]
    }
   ],
   "source": [
    "ver_inventario()"
   ]
  },
  {
   "cell_type": "code",
   "execution_count": null,
   "metadata": {},
   "outputs": [],
   "source": [
    "#3.\n",
    "# `buscar_producto(nombre)`: Busca un producto en el inventario por nombre y muestra sus detalles si se encuentra. \n",
    "# Debe recibir el nombre del producto como parámetro. "
   ]
  },
  {
   "cell_type": "code",
   "execution_count": 595,
   "metadata": {},
   "outputs": [],
   "source": [
    "inventario=[{'nombre': 'bikini', 'precio': 27, 'cantidad': 10},{'nombre': 'zapatillas', 'precio': 45, 'cantidad': 19}]"
   ]
  },
  {
   "cell_type": "code",
   "execution_count": null,
   "metadata": {},
   "outputs": [],
   "source": [
    "def buscar_producto(nombre):\n",
    "    for producto in inventario:\n",
    "        if producto[\"nombre\"].lower() == nombre.lower(): #esto lo pongo por hacer programación defensiva y así prevenir fallos, si se pone en mayúscula y no lo reconoce. \n",
    "           print(f\"Producto encontrado: {producto}\")     # Podría hacerlo a la inversa usando upper()\n",
    "           return\n",
    "   \n",
    "    print(f\"El producto '{nombre}' no se encuentra en el inventario.\")\n",
    "       \n",
    "        \n",
    "       "
   ]
  },
  {
   "cell_type": "code",
   "execution_count": 617,
   "metadata": {},
   "outputs": [
    {
     "name": "stdout",
     "output_type": "stream",
     "text": [
      "Producto encontrado: {'nombre': 'bikini', 'precio': 27, 'cantidad': 10}\n"
     ]
    }
   ],
   "source": [
    "buscar_producto('bikini')"
   ]
  },
  {
   "cell_type": "code",
   "execution_count": 615,
   "metadata": {},
   "outputs": [
    {
     "name": "stdout",
     "output_type": "stream",
     "text": [
      "El producto 'camiseta' no se encuentra en el inventario.\n"
     ]
    }
   ],
   "source": [
    "buscar_producto('camiseta')"
   ]
  },
  {
   "cell_type": "code",
   "execution_count": null,
   "metadata": {},
   "outputs": [],
   "source": [
    "#4.\n",
    "#'actualizar_stock(nombre, cantidad)':Actualizar el stock de un producto en el inventario.@\n",
    "# Debe recibir el nombre del producto y la cantidad a agregar o quitar como parámetros."
   ]
  },
  {
   "cell_type": "code",
   "execution_count": 622,
   "metadata": {},
   "outputs": [],
   "source": [
    "def actualizar_stock(nombre, cantidad):\n",
    "    for producto in inventario:\n",
    "        if producto[\"nombre\"].lower() == nombre.lower():  \n",
    "            producto[\"cantidad\"] += cantidad\n",
    "            print(f\"Stock actualizado: {producto['nombre']} ahora tiene {producto['cantidad']} unidades.\")\n",
    "            return\n",
    "    \n",
    "   \n",
    "    print(f\"El producto '{nombre}' no se encuentra en el inventario.\")\n",
    "\n",
    "          \n",
    "\n",
    "\n"
   ]
  },
  {
   "cell_type": "code",
   "execution_count": 621,
   "metadata": {},
   "outputs": [
    {
     "name": "stdout",
     "output_type": "stream",
     "text": [
      "El producto 'pantalon' no se encuentra en el inventario.\n"
     ]
    }
   ],
   "source": [
    "actualizar_stock('pantalon',15)"
   ]
  },
  {
   "cell_type": "code",
   "execution_count": 623,
   "metadata": {},
   "outputs": [
    {
     "name": "stdout",
     "output_type": "stream",
     "text": [
      "Stock actualizado: bikini ahora tiene 20 unidades.\n"
     ]
    }
   ],
   "source": [
    "actualizar_stock('bikini',10)"
   ]
  },
  {
   "cell_type": "code",
   "execution_count": null,
   "metadata": {},
   "outputs": [],
   "source": [
    "#5. \n",
    "# eliminar_producto(nombre)`: Elimina un producto del inventario por nombre. Debe recibir el nombre del producto como parámetro. \n",
    "# Utiliza un bucle `for` para recorrer el inventario. \n",
    "# Busca el producto por nombre. \n",
    "# Elimina el producto del inventario si existe. \n",
    "# Si el producto no esta en el inventario muestra un mensaje indicándolo.  "
   ]
  },
  {
   "cell_type": "code",
   "execution_count": 624,
   "metadata": {},
   "outputs": [],
   "source": [
    "def eliminar_producto(nombre):\n",
    "    for producto in inventario:\n",
    "        if producto[\"nombre\"] == nombre: \n",
    "            inventario.remove(producto)\n",
    "            print(f\"Producto '{nombre}' eliminado del inventario.\")\n",
    "            return\n",
    "    \n",
    "    # Si no encontramos el producto\n",
    "    print(f\"El producto '{nombre}' no se encuentra en el inventario.\")"
   ]
  },
  {
   "cell_type": "code",
   "execution_count": 626,
   "metadata": {},
   "outputs": [
    {
     "name": "stdout",
     "output_type": "stream",
     "text": [
      "Producto 'bikini' eliminado del inventario.\n"
     ]
    }
   ],
   "source": [
    "eliminar_producto('bikini')"
   ]
  },
  {
   "cell_type": "code",
   "execution_count": 627,
   "metadata": {},
   "outputs": [
    {
     "name": "stdout",
     "output_type": "stream",
     "text": [
      "El producto 'calcetin' no se encuentra en el inventario.\n"
     ]
    }
   ],
   "source": [
    "eliminar_producto('calcetin')"
   ]
  },
  {
   "cell_type": "code",
   "execution_count": null,
   "metadata": {},
   "outputs": [],
   "source": [
    "# 6. \n",
    "# calcular_valor_inventario()`: Calcula y muestra el valor total del inventario. \n",
    "# Utiliza un bucle for para calcular el valor total del inventario. \n",
    "# Itera a través del inventario y suma el valor de cada producto (precio x cantidad)"
   ]
  },
  {
   "cell_type": "code",
   "execution_count": 628,
   "metadata": {},
   "outputs": [
    {
     "name": "stdout",
     "output_type": "stream",
     "text": [
      "[{'nombre': 'bikini', 'precio': 27, 'cantidad': 10}, {'nombre': 'zapatillas', 'precio': 45, 'cantidad': 19}, {'nombre': 'falda', 'precio': 12, 'cantidad': 25}]\n"
     ]
    }
   ],
   "source": [
    "nuevo_inventario=[{'nombre': 'bikini', 'precio': 27, 'cantidad': 10}, {'nombre': 'zapatillas', 'precio': 45, 'cantidad': 19}, {'nombre': 'falda', 'precio': 12, 'cantidad': 25}]\n",
    "print(nuevo_inventario)"
   ]
  },
  {
   "cell_type": "code",
   "execution_count": 629,
   "metadata": {},
   "outputs": [],
   "source": [
    "def calcular_valor_inventario():\n",
    "    valor_total=0\n",
    "    \n",
    "    for producto in nuevo_inventario:\n",
    "        valor_producto = producto[\"cantidad\"] * producto[\"precio\"]\n",
    "        valor_total += valor_producto\n",
    "    \n",
    "    \n",
    "    print(f\"El valor total del inventario es: {valor_total} euros.\")"
   ]
  },
  {
   "cell_type": "code",
   "execution_count": 630,
   "metadata": {},
   "outputs": [
    {
     "name": "stdout",
     "output_type": "stream",
     "text": [
      "El valor total del inventario es: 1425 euros.\n"
     ]
    }
   ],
   "source": [
    "calcular_valor_inventario()"
   ]
  },
  {
   "cell_type": "code",
   "execution_count": null,
   "metadata": {},
   "outputs": [],
   "source": [
    "# 7.\n",
    "#`realizar_compra()`: Permite a un cliente realizar una compra seleccionando productos del inventario. \n",
    "# Debe interactuar con el cliente para seleccionar productos y calcular el costo total de la compra. \n",
    "# # Utiliza un bucle `while` para permitir al cliente realizar múltiples compras. \n",
    "# Muestra el inventario y solicita al cliente ingresar el nombre del producto que desea comprar. \n",
    "# Registra los productos seleccionados en un carrito y actualiza el inventario. \n",
    "# Calcula el costo total de la compra. \n"
   ]
  },
  {
   "cell_type": "code",
   "execution_count": 639,
   "metadata": {},
   "outputs": [
    {
     "name": "stdout",
     "output_type": "stream",
     "text": [
      "[{'nombre': 'bikini', 'precio': 27, 'cantidad': 5}, {'nombre': 'zapatillas', 'precio': 45, 'cantidad': 19}, {'nombre': 'falda', 'precio': 12, 'cantidad': 25}]\n"
     ]
    }
   ],
   "source": [
    "print(nuevo_inventario)"
   ]
  },
  {
   "cell_type": "code",
   "execution_count": 640,
   "metadata": {},
   "outputs": [],
   "source": [
    "def realiza_compra():\n",
    "    carrito  = []\n",
    "    total_compra = 0\n",
    "\n",
    "    while True:\n",
    "        print('este es nuestro stock disponible')\n",
    "        for producto in nuevo_inventario:\n",
    "            print(f\"{producto['nombre']} - {producto['cantidad']} unidades disponibles - {producto['precio']} euros\")\n",
    "            \n",
    "        producto_nombre = input(\"\\nIngrese el nombre del producto que desea comprar (o 'salir' para terminar): \")\n",
    "\n",
    "        if producto_nombre == 'salir':  \n",
    "            break\n",
    "\n",
    "        for producto in nuevo_inventario:\n",
    "            if producto[\"nombre\"] == producto_nombre:\n",
    "                producto_encontrado = True\n",
    "\n",
    "                cantidad = int(input(f\"¿Cuántas unidades de {producto_nombre} desea comprar? \"))\n",
    "                if cantidad <= producto[\"cantidad\"]:\n",
    "                   producto[\"cantidad\"] -= cantidad\n",
    "                   carrito.append({\"nombre\": producto_nombre, \"cantidad\": cantidad, \"precio\": producto[\"precio\"]})\n",
    "                   total_compra += cantidad * producto[\"precio\"]\n",
    "                   print(f\"Has agregado {cantidad} unidad(es) de {producto_nombre} a tu carrito.\")\n",
    "                else:\n",
    "                    print(f\"Lo siento, {producto_nombre} no disponible en estos momentos.\")\n",
    "                break\n",
    "            if not producto_encontrado:\n",
    "                print(f\"El producto '{producto_nombre}' no se encuentra en el inventario.\")\n",
    "\n",
    "        print(\"\\nResumen de tu compra:\")\n",
    "    for item in carrito:\n",
    "        print(f\"{item['cantidad']} unidad(es) de {item['nombre']} a {item['precio']} euros cada una\")\n",
    "    \n",
    "    print(f\"\\nCosto total de la compra: {total_compra} euros\")\n",
    "                    \n",
    "    "
   ]
  },
  {
   "cell_type": "code",
   "execution_count": 642,
   "metadata": {},
   "outputs": [
    {
     "name": "stdout",
     "output_type": "stream",
     "text": [
      "este es nuestro stock disponible\n",
      "bikini - 5 unidades disponibles - 27 euros\n",
      "zapatillas - 19 unidades disponibles - 45 euros\n",
      "falda - 25 unidades disponibles - 12 euros\n",
      "Has agregado 2 unidad(es) de bikini a tu carrito.\n",
      "\n",
      "Resumen de tu compra:\n",
      "este es nuestro stock disponible\n",
      "bikini - 3 unidades disponibles - 27 euros\n",
      "zapatillas - 19 unidades disponibles - 45 euros\n",
      "falda - 25 unidades disponibles - 12 euros\n",
      "Has agregado 5 unidad(es) de falda a tu carrito.\n",
      "\n",
      "Resumen de tu compra:\n",
      "este es nuestro stock disponible\n",
      "bikini - 3 unidades disponibles - 27 euros\n",
      "zapatillas - 19 unidades disponibles - 45 euros\n",
      "falda - 20 unidades disponibles - 12 euros\n",
      "Has agregado 3 unidad(es) de zapatillas a tu carrito.\n",
      "\n",
      "Resumen de tu compra:\n",
      "este es nuestro stock disponible\n",
      "bikini - 3 unidades disponibles - 27 euros\n",
      "zapatillas - 16 unidades disponibles - 45 euros\n",
      "falda - 20 unidades disponibles - 12 euros\n",
      "2 unidad(es) de bikini a 27 euros cada una\n",
      "5 unidad(es) de falda a 12 euros cada una\n",
      "3 unidad(es) de zapatillas a 45 euros cada una\n",
      "\n",
      "Costo total de la compra: 249 euros\n"
     ]
    }
   ],
   "source": [
    "realiza_compra()"
   ]
  },
  {
   "cell_type": "code",
   "execution_count": null,
   "metadata": {},
   "outputs": [],
   "source": [
    "#8.\n",
    "#`procesar_pago()`: Procesa el pago de una compra, calcula el cambio y muestra un mensaje de confirmación. \n",
    "# Utiliza un bloque `try...except` para manejar excepciones.                                                                                            \n",
    "# Solicita al cliente ingresar la cantidad total y la cantidad de pago usando un input. "
   ]
  },
  {
   "cell_type": "code",
   "execution_count": null,
   "metadata": {},
   "outputs": [],
   "source": [
    "def procesar_pago():\n",
    "    "
   ]
  },
  {
   "cell_type": "code",
   "execution_count": null,
   "metadata": {},
   "outputs": [],
   "source": [
    "#9.\n",
    "#`agregar_cliente(nombre, email)`: Agrega un nuevo cliente al registro de clientes. \n",
    "# Debe recibir el nombre y el correo electrónico del cliente como parámetros. \n",
    "# Agrega un cliente al diccionario de clientes con su nombre y correo electrónico."
   ]
  },
  {
   "cell_type": "code",
   "execution_count": 775,
   "metadata": {},
   "outputs": [
    {
     "name": "stdout",
     "output_type": "stream",
     "text": [
      "{}\n"
     ]
    }
   ],
   "source": [
    "clientes={}\n",
    "print(clientes)"
   ]
  },
  {
   "cell_type": "code",
   "execution_count": 788,
   "metadata": {},
   "outputs": [],
   "source": [
    "def agregar_clientes(nombre,email):\n",
    "    if nombre not in clientes:\n",
    "        clientes [nombre] = email\n",
    "        print('el cliente se ha añadido con exito')\n",
    "        return clientes\n",
    "    \n",
    "    \n",
    "\n",
    "        \n"
   ]
  },
  {
   "cell_type": "code",
   "execution_count": 791,
   "metadata": {},
   "outputs": [
    {
     "name": "stdout",
     "output_type": "stream",
     "text": [
      "el cliente se ha añadido con exito\n"
     ]
    },
    {
     "data": {
      "text/plain": [
       "{'Juan': 'juan@gmail.com',\n",
       " 'Ana': 'ana@gmail.com',\n",
       " 'Maria': 'maria@gmail.com',\n",
       " 'Jim': 'jimn@gmail.com'}"
      ]
     },
     "execution_count": 791,
     "metadata": {},
     "output_type": "execute_result"
    }
   ],
   "source": [
    "agregar_clientes('Jim', 'jimn@gmail.com')"
   ]
  },
  {
   "cell_type": "code",
   "execution_count": 782,
   "metadata": {},
   "outputs": [],
   "source": [
    "agregar_clientes('Ana','ana@gmail.com')"
   ]
  },
  {
   "cell_type": "code",
   "execution_count": 790,
   "metadata": {},
   "outputs": [],
   "source": [
    "agregar_clientes('Maria','maria@gmail.com')"
   ]
  },
  {
   "cell_type": "code",
   "execution_count": null,
   "metadata": {},
   "outputs": [],
   "source": [
    "#10.\n",
    "# ver_clientes()`: Muestra la lista de clientes registrados con sus nombres y correos electrónicos. \n",
    "# Utiliza un bucle `for` para recorrer la base de datos de clientes. \n",
    "# Imprime los detalles de cada cliente (nombre y correo electrónico). \n",
    "\n"
   ]
  },
  {
   "cell_type": "code",
   "execution_count": 799,
   "metadata": {},
   "outputs": [],
   "source": [
    "def ver_clientes():\n",
    "    for nombre, correo in clientes.items():\n",
    "        print(f\"Nombre: {nombre}, Correo: {correo}\")\n",
    "\n",
    "        \n",
    "        "
   ]
  },
  {
   "cell_type": "code",
   "execution_count": 800,
   "metadata": {},
   "outputs": [
    {
     "name": "stdout",
     "output_type": "stream",
     "text": [
      "Nombre: Juan, Correo: juan@gmail.com\n",
      "Nombre: Ana, Correo: ana@gmail.com\n",
      "Nombre: Maria, Correo: maria@gmail.com\n",
      "Nombre: Jim, Correo: jimn@gmail.com\n"
     ]
    }
   ],
   "source": [
    "ver_clientes()"
   ]
  }
 ],
 "metadata": {
  "kernelspec": {
   "display_name": "base",
   "language": "python",
   "name": "python3"
  },
  "language_info": {
   "codemirror_mode": {
    "name": "ipython",
    "version": 3
   },
   "file_extension": ".py",
   "mimetype": "text/x-python",
   "name": "python",
   "nbconvert_exporter": "python",
   "pygments_lexer": "ipython3",
   "version": "3.12.7"
  }
 },
 "nbformat": 4,
 "nbformat_minor": 2
}
